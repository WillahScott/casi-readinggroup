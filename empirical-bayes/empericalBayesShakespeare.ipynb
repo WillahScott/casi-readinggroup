{
 "cells": [
  {
   "cell_type": "code",
   "execution_count": 1,
   "metadata": {
    "collapsed": true
   },
   "outputs": [],
   "source": [
    "import pandas as pd\n",
    "import numpy as np\n",
    "import re\n",
    "import os\n",
    "from collections import Counter"
   ]
  },
  {
   "cell_type": "markdown",
   "metadata": {},
   "source": [
    "Collect the list of txt files for each play and save to spPlays"
   ]
  },
  {
   "cell_type": "code",
   "execution_count": 24,
   "metadata": {
    "collapsed": false
   },
   "outputs": [],
   "source": [
    "#use this list to exclude certain plays\n",
    "excludedPlays = []\n",
    "\n",
    "spDir = 'shakespeare-plays-plus'\n",
    "spSubDir = [spDir + '/'+ x for x in os.listdir(spDir) if '.' not in x]\n",
    "spPlays = []\n",
    "\n",
    "for subDir in spSubDir:\n",
    "    spPlays = spPlays + [subDir + '/' + x for x in os.listdir(subDir) if 'txt' in x and x not in excludedPlays]\n"
   ]
  },
  {
   "cell_type": "markdown",
   "metadata": {},
   "source": [
    "Read all selected plays  \n",
    "Skip line if a line contains < (non-text)  \n",
    "Create CounterDict to store a word Counter for each play  \n",
    "The keys for CounterDict are play names without '.txt'"
   ]
  },
  {
   "cell_type": "code",
   "execution_count": 70,
   "metadata": {
    "collapsed": false
   },
   "outputs": [],
   "source": [
    "CounterDict = {}\n",
    "\n",
    "for spPlay in spPlays:\n",
    "    playName = spPlay.split('/')[-1].split('.')[0]\n",
    "    CounterDict[playName] = Counter()\n",
    "    with open(spPlay, 'r', encoding='utf-16') as playTxt:\n",
    "        for line in playTxt:\n",
    "            if '<' in line:\n",
    "                continue\n",
    "            if line.split():\n",
    "                CounterDict[playName].update(Counter(re.findall('\\w+', line.lower())))\n"
   ]
  },
  {
   "cell_type": "markdown",
   "metadata": {},
   "source": [
    "To do list:\n",
    "* leave one word out -- we can \"cheat\" and check this one once we have counts of words with 1, 2, 3...appearances\n",
    "* leave one play out\n",
    "* randomly leave out a number of words--simulate multiple times and we should be able to plot emperical bayes estimate and error range"
   ]
  },
  {
   "cell_type": "code",
   "execution_count": 71,
   "metadata": {
    "collapsed": false
   },
   "outputs": [],
   "source": [
    "#create a totalCounter for all plays\n",
    "totalCounter = Counter()\n",
    "for playCounter in CounterDict.values():\n",
    "    totalCounter.update(playCounter)"
   ]
  },
  {
   "cell_type": "code",
   "execution_count": 75,
   "metadata": {
    "collapsed": false
   },
   "outputs": [
    {
     "name": "stdout",
     "output_type": "stream",
     "text": [
      "distinct words: 22859\n",
      "total words: 822249\n"
     ]
    }
   ],
   "source": [
    "print('distinct words:', len(totalCounter))\n",
    "print('total words:', sum(totalCounter.values()))"
   ]
  },
  {
   "cell_type": "markdown",
   "metadata": {},
   "source": [
    "we have fewer words than CASI example  \n",
    "probably because we are using only play data"
   ]
  },
  {
   "cell_type": "code",
   "execution_count": null,
   "metadata": {
    "collapsed": true
   },
   "outputs": [],
   "source": []
  }
 ],
 "metadata": {
  "kernelspec": {
   "display_name": "Python [default]",
   "language": "python",
   "name": "python3"
  },
  "language_info": {
   "codemirror_mode": {
    "name": "ipython",
    "version": 3
   },
   "file_extension": ".py",
   "mimetype": "text/x-python",
   "name": "python",
   "nbconvert_exporter": "python",
   "pygments_lexer": "ipython3",
   "version": "3.5.2"
  }
 },
 "nbformat": 4,
 "nbformat_minor": 2
}
